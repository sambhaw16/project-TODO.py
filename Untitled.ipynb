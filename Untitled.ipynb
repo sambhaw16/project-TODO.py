{
 "cells": [
  {
   "cell_type": "code",
   "execution_count": null,
   "metadata": {},
   "outputs": [],
   "source": []
  },
  {
   "cell_type": "code",
   "execution_count": null,
   "metadata": {},
   "outputs": [
    {
     "name": "stdout",
     "output_type": "stream",
     "text": [
      "Select Menu Items\n",
      "1. Add an item\n",
      "1. Mark as Done\n",
      "1. View Items \n",
      "4. Exit\n",
      "Enter Your choice from Menu...  - 1\n",
      "Add an item....\n"
     ]
    }
   ],
   "source": [
    "user_input = ''\n",
    "data = []\n",
    "\n",
    "def show_menu():\n",
    "    print('Select Menu Items')\n",
    "    print('1. Add an item')\n",
    "    print('1. Mark as Done')\n",
    "    print('1. View Items ')\n",
    "    print('4. Exit')\n",
    "    \n",
    "\n",
    "show_menu()\n",
    "\n",
    "while user_input != '4':\n",
    "    \n",
    "    \n",
    "    user_input = input('Enter Your choice from Menu...  - ')\n",
    "    \n",
    "    if user_input == '1':\n",
    "        print('Add an item....')\n",
    "        item = input('What to Add?....  ')\n",
    "        data.append(item)\n",
    "        print('Added Item :', item )\n",
    "    elif user_input == '2':\n",
    "        try:\n",
    "            \n",
    "            print('\\n List of items')\n",
    "            for i in range(len(data)):\n",
    "                print(f'{i+1}. {data[i]}')\n",
    "            \n",
    "            item_to_remove = int(input('Enter the Item number to mark as completed...   '))\n",
    "            print('removed item :', data[item_to_remove-1])\n",
    "            data.pop(item_to_remove-1)\n",
    "        except:\n",
    "            print(' please enter valid Number')\n",
    "        \n",
    "    elif user_input == '3':\n",
    "        print('\\n List of items')\n",
    "        for i in range(len(data)):\n",
    "            print(f'{i+1}. {data[i]}')\n",
    "            \n",
    "    elif user_input == '4':\n",
    "        print('Exit')\n",
    "        \n",
    "    else:\n",
    "        print('Please select a valid menu Item')\n",
    "        \n",
    "    "
   ]
  },
  {
   "cell_type": "code",
   "execution_count": 4,
   "metadata": {},
   "outputs": [
    {
     "name": "stdout",
     "output_type": "stream",
     "text": [
      "<class 'int'>\n"
     ]
    }
   ],
   "source": [
    "print(type(90))"
   ]
  }
 ],
 "metadata": {
  "kernelspec": {
   "display_name": "Python 3",
   "language": "python",
   "name": "python3"
  },
  "language_info": {
   "codemirror_mode": {
    "name": "ipython",
    "version": 3
   },
   "file_extension": ".py",
   "mimetype": "text/x-python",
   "name": "python",
   "nbconvert_exporter": "python",
   "pygments_lexer": "ipython3",
   "version": "3.6.5"
  }
 },
 "nbformat": 4,
 "nbformat_minor": 2
}
